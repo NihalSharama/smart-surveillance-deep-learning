{
 "cells": [
  {
   "cell_type": "code",
   "execution_count": 1,
   "id": "f639bc39",
   "metadata": {},
   "outputs": [],
   "source": [
    "import  numpy as np\n",
    "import pandas as pd\n",
    "from tensorflow.keras.models import load_model\n",
    "import cv2\n",
    "from collections import deque\n",
    "\n",
    "import time\n",
    "from time import sleep\n",
    "from sinchsms import SinchSMS"
   ]
  },
  {
   "cell_type": "code",
   "execution_count": 13,
   "id": "de8ab78c",
   "metadata": {},
   "outputs": [],
   "source": [
    "activity_model = load_model('LNRC_MODEL_3.h5')"
   ]
  },
  {
   "cell_type": "code",
   "execution_count": 14,
   "id": "2fbac7fd",
   "metadata": {},
   "outputs": [],
   "source": [
    "classes_list = [\"normal\", \"suspicious\"]\n",
    "\n",
    "SEQUENCE_LENGTH = 20\n",
    "image_height, image_width = 64, 64\n",
    "\n",
    "POLICE = +918368096295"
   ]
  },
  {
   "cell_type": "code",
   "execution_count": 9,
   "id": "92927e34",
   "metadata": {},
   "outputs": [],
   "source": [
    "def send_sms_to_police():\n",
    "    number = '+447520652529'\n",
    "    app_key = '4a6c76e897ca4eddae6b53d91ba12281'\n",
    "    app_secret = '***********'\n",
    "  \n",
    "    # enter the message to be sent\n",
    "    message = 'Hello Message!!!'\n",
    "  \n",
    "    client = SinchSMS(app_key, app_secret)\n",
    "    print(\"Sending '%s' to %s\" % ('Test', POLICE))\n",
    "  \n",
    "    response = client.send_message(number, 'Test')\n",
    "    message_id = response['messageId']\n",
    "    response = client.check_status(message_id)\n",
    "  \n",
    "    # keep trying unless the status returned is Successful\n",
    "    while response['status'] != 'Successful':\n",
    "        print(response['status'])\n",
    "        time.sleep(1)\n",
    "        response = client.check_status(message_id)\n",
    "  \n",
    "    print(response['status'])\n",
    "  \n",
    "    if __name__ == \"__main__\":\n",
    "        sendSMS()"
   ]
  },
  {
   "cell_type": "code",
   "execution_count": 15,
   "id": "9f2553b3",
   "metadata": {},
   "outputs": [],
   "source": [
    "def predict_on_realtime(output_file_path, SEQUENCE_LENGTH):\n",
    "     \n",
    "    video_reader = cv2.VideoCapture(0)\n",
    "    \n",
    "    orignal_video_width = int(video_reader.get(cv2.CAP_PROP_FRAME_WIDTH))\n",
    "    orignal_video_height = int(video_reader.get(cv2.CAP_PROP_FRAME_HEIGHT))\n",
    "    \n",
    "    video_writer = cv2.VideoWriter(output_file_path, cv2.VideoWriter_fourcc('M', 'P', '4', 'V'),\n",
    "                                 video_reader.get(cv2.CAP_PROP_FPS), (orignal_video_width, orignal_video_height))\n",
    "    \n",
    "    frames_queue = deque(maxlen = SEQUENCE_LENGTH)\n",
    "    predictions= []\n",
    "    \n",
    "    predicted_class_name = ''\n",
    "    \n",
    "    while video_reader.isOpened():\n",
    "        ok , frame = video_reader.read()\n",
    "        \n",
    "        if not ok:\n",
    "            break\n",
    "            \n",
    "        if cv2.waitKey(1) & 0xFF == ord('q'): # taking keyboard input 'q' to brake it\n",
    "            cv2.destroyAllWindows()\n",
    "            break\n",
    "            \n",
    "        \n",
    "        resized_frame = cv2.resize(frame, (image_height, image_width))\n",
    "        normalized_frame = resized_frame / 255\n",
    "        \n",
    "        frames_queue.append(normalized_frame)\n",
    "        \n",
    "        \n",
    "        if len(frames_queue) == SEQUENCE_LENGTH:\n",
    "            predicted_label_probabilities = activity_model.predict(np.expand_dims(frames_queue, axis=0))[0]\n",
    "            predicted_label = np.argmax(predicted_label_probabilities)\n",
    "            \n",
    "            predictions.append(predicted_label)\n",
    "            predicted_class_name = classes_list[predicted_label]\n",
    "            \n",
    "            \n",
    "           \n",
    "            \n",
    "            \n",
    "            if(predicted_class_name == 'normal'):\n",
    "                labeled_frame = cv2.putText(frame, f'Activity: {predicted_class_name}', (50, 50), cv2.FONT_HERSHEY_SIMPLEX, 1, (0,255,0), cv2.LINE_4)\n",
    "                cv2.imshow('fram',labeled_frame)\n",
    "                    \n",
    "            elif(predicted_class_name == 'suspicious'):\n",
    "                labeled_frame = cv2.putText(frame, f'Activity: {predicted_class_name}', (50, 50), cv2.FONT_HERSHEY_SIMPLEX, 1, (0,0,255), cv2.LINE_4)\n",
    "                cv2.imshow('fram',labeled_frame)\n",
    "        \n",
    "        video_writer.write(frame)\n",
    "        \n",
    "        \n",
    "        \n",
    "    video_reader.release()\n",
    "    video_writer.release()"
   ]
  },
  {
   "cell_type": "code",
   "execution_count": 16,
   "id": "463d2b22",
   "metadata": {},
   "outputs": [],
   "source": [
    "predict_on_realtime('testing_data/realtime_predictions.mp4',SEQUENCE_LENGTH )"
   ]
  },
  {
   "cell_type": "code",
   "execution_count": null,
   "id": "b9d52a3a",
   "metadata": {},
   "outputs": [],
   "source": []
  }
 ],
 "metadata": {
  "kernelspec": {
   "display_name": "venv",
   "language": "python",
   "name": "venv"
  },
  "language_info": {
   "codemirror_mode": {
    "name": "ipython",
    "version": 3
   },
   "file_extension": ".py",
   "mimetype": "text/x-python",
   "name": "python",
   "nbconvert_exporter": "python",
   "pygments_lexer": "ipython3",
   "version": "3.10.4"
  }
 },
 "nbformat": 4,
 "nbformat_minor": 5
}
