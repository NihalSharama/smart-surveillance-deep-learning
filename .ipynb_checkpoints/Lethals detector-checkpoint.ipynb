{
 "cells": [
  {
   "cell_type": "code",
   "execution_count": 1,
   "id": "28ed2ca9",
   "metadata": {},
   "outputs": [],
   "source": [
    "from tensorflow.keras.models import Sequential, load_model, Model\n",
    "from tensorflow.keras.layers import Conv2D , MaxPool2D, Flatten, Dense, Conv2D, Dropout, Convolution2D\n",
    "from tensorflow.keras.preprocessing.image import ImageDataGenerator\n",
    "from tensorflow.keras.callbacks import EarlyStopping\n",
    "from keras.applications.vgg16 import VGG16\n",
    "\n",
    "import warnings\n",
    "import glob\n",
    "import cv2\n",
    "\n",
    "import numpy as np\n",
    "from tensorflow.keras.preprocessing import image\n",
    "warnings.filterwarnings('ignore')"
   ]
  },
  {
   "cell_type": "code",
   "execution_count": 2,
   "id": "fc040a66",
   "metadata": {},
   "outputs": [],
   "source": [
    "DATASET_PATH = 'datasets/weapon_dataset_v2'\n",
    "\n",
    "image_height = 128\n",
    "image_width = 128\n",
    "classes_list = [ 'normal', 'weapon']"
   ]
  },
  {
   "cell_type": "code",
   "execution_count": 16,
   "id": "4dfa720b",
   "metadata": {},
   "outputs": [],
   "source": [
    "vgg = VGG16(input_shape=[image_height, image_width] + [3], weights='imagenet', include_top=False)"
   ]
  },
  {
   "cell_type": "code",
   "execution_count": 17,
   "id": "491a7ec9",
   "metadata": {},
   "outputs": [],
   "source": [
    "for layer in vgg.layers:\n",
    "    layer.trainable = False"
   ]
  },
  {
   "cell_type": "code",
   "execution_count": 18,
   "id": "64c9d0d9",
   "metadata": {},
   "outputs": [],
   "source": [
    "x = Flatten()(vgg.output)"
   ]
  },
  {
   "cell_type": "code",
   "execution_count": 19,
   "id": "086bc3e6",
   "metadata": {},
   "outputs": [],
   "source": [
    "prediction = Dense(1, activation='sigmoid')(x)\n",
    "\n",
    "# create a model object\n",
    "model = Model(inputs=vgg.input, outputs=prediction)"
   ]
  },
  {
   "cell_type": "code",
   "execution_count": 20,
   "id": "cb0bb875",
   "metadata": {},
   "outputs": [
    {
     "name": "stdout",
     "output_type": "stream",
     "text": [
      "Model: \"model_1\"\n",
      "_________________________________________________________________\n",
      " Layer (type)                Output Shape              Param #   \n",
      "=================================================================\n",
      " input_2 (InputLayer)        [(None, 128, 126, 3)]     0         \n",
      "                                                                 \n",
      " block1_conv1 (Conv2D)       (None, 128, 126, 64)      1792      \n",
      "                                                                 \n",
      " block1_conv2 (Conv2D)       (None, 128, 126, 64)      36928     \n",
      "                                                                 \n",
      " block1_pool (MaxPooling2D)  (None, 64, 63, 64)        0         \n",
      "                                                                 \n",
      " block2_conv1 (Conv2D)       (None, 64, 63, 128)       73856     \n",
      "                                                                 \n",
      " block2_conv2 (Conv2D)       (None, 64, 63, 128)       147584    \n",
      "                                                                 \n",
      " block2_pool (MaxPooling2D)  (None, 32, 31, 128)       0         \n",
      "                                                                 \n",
      " block3_conv1 (Conv2D)       (None, 32, 31, 256)       295168    \n",
      "                                                                 \n",
      " block3_conv2 (Conv2D)       (None, 32, 31, 256)       590080    \n",
      "                                                                 \n",
      " block3_conv3 (Conv2D)       (None, 32, 31, 256)       590080    \n",
      "                                                                 \n",
      " block3_pool (MaxPooling2D)  (None, 16, 15, 256)       0         \n",
      "                                                                 \n",
      " block4_conv1 (Conv2D)       (None, 16, 15, 512)       1180160   \n",
      "                                                                 \n",
      " block4_conv2 (Conv2D)       (None, 16, 15, 512)       2359808   \n",
      "                                                                 \n",
      " block4_conv3 (Conv2D)       (None, 16, 15, 512)       2359808   \n",
      "                                                                 \n",
      " block4_pool (MaxPooling2D)  (None, 8, 7, 512)         0         \n",
      "                                                                 \n",
      " block5_conv1 (Conv2D)       (None, 8, 7, 512)         2359808   \n",
      "                                                                 \n",
      " block5_conv2 (Conv2D)       (None, 8, 7, 512)         2359808   \n",
      "                                                                 \n",
      " block5_conv3 (Conv2D)       (None, 8, 7, 512)         2359808   \n",
      "                                                                 \n",
      " block5_pool (MaxPooling2D)  (None, 4, 3, 512)         0         \n",
      "                                                                 \n",
      " flatten_1 (Flatten)         (None, 6144)              0         \n",
      "                                                                 \n",
      " dense_1 (Dense)             (None, 1)                 6145      \n",
      "                                                                 \n",
      "=================================================================\n",
      "Total params: 14,720,833\n",
      "Trainable params: 6,145\n",
      "Non-trainable params: 14,714,688\n",
      "_________________________________________________________________\n"
     ]
    }
   ],
   "source": [
    "model.summary()"
   ]
  },
  {
   "cell_type": "code",
   "execution_count": 21,
   "id": "7cceeabd",
   "metadata": {},
   "outputs": [],
   "source": [
    "# model = Sequential()\n",
    "    \n",
    "# # Layer: 1\n",
    "# model.add(Conv2D(filters = 16, kernel_size = 3, padding='same',activation = 'relu', input_shape = (image_height, image_width, 3)))\n",
    "# model.add(MaxPool2D(4,4))\n",
    "# model.add(Dropout(0.25))\n",
    "\n",
    "# # Layer: 2\n",
    "# model.add(Conv2D(filters= 32, kernel_size=3,padding='same', activation='relu'))\n",
    "# model.add(MaxPool2D(4,4))\n",
    "# model.add(Dropout(0.25))\n",
    "\n",
    "# # Layer: 3\n",
    "# model.add(Conv2D(filters= 64, kernel_size=3,padding='same', activation='relu'))\n",
    "# model.add(MaxPool2D(2,2))\n",
    "# model.add(Dropout(0.25))\n",
    "\n",
    "# # Layer: 4\n",
    "# model.add(Conv2D(filters= 64, kernel_size=3,padding='same', activation='relu'))\n",
    "# model.add(MaxPool2D(2,2))\n",
    "# model.add(Dropout(0.25))\n",
    "\n",
    "# # Flatten Layer\n",
    "# model.add(Flatten())\n",
    "\n",
    "# # Final Classification Layer\n",
    "# model.add(Dense(1, activation='sigmoid'))"
   ]
  },
  {
   "cell_type": "code",
   "execution_count": 22,
   "id": "d20f1431",
   "metadata": {},
   "outputs": [],
   "source": [
    "train_datagen = ImageDataGenerator(rescale=1./255, shear_range=0.2, zoom_range=0.2, horizontal_flip=True)\n",
    "test_datagen = ImageDataGenerator(rescale=1./255)"
   ]
  },
  {
   "cell_type": "code",
   "execution_count": 23,
   "id": "310f0777",
   "metadata": {},
   "outputs": [
    {
     "name": "stdout",
     "output_type": "stream",
     "text": [
      "Found 354 images belonging to 2 classes.\n"
     ]
    }
   ],
   "source": [
    "training_set = train_datagen.flow_from_directory(\n",
    "                            DATASET_PATH + '/training_set',\n",
    "                            target_size=(image_width, image_height),\n",
    "                            class_mode='binary')"
   ]
  },
  {
   "cell_type": "code",
   "execution_count": 24,
   "id": "273742a3",
   "metadata": {},
   "outputs": [
    {
     "name": "stdout",
     "output_type": "stream",
     "text": [
      "Found 58 images belonging to 2 classes.\n"
     ]
    }
   ],
   "source": [
    "test_set = train_datagen.flow_from_directory(\n",
    "                            DATASET_PATH + '/testing_set',\n",
    "                            target_size=(image_width, image_height),\n",
    "                            class_mode='binary')"
   ]
  },
  {
   "cell_type": "code",
   "execution_count": 25,
   "id": "7e83753e",
   "metadata": {},
   "outputs": [
    {
     "name": "stdout",
     "output_type": "stream",
     "text": [
      "Epoch 1/25\n",
      "12/12 [==============================] - 71s 6s/step - loss: 0.7042 - accuracy: 0.6554 - val_loss: 0.5605 - val_accuracy: 0.6897\n",
      "Epoch 2/25\n",
      "12/12 [==============================] - 46s 4s/step - loss: 0.3992 - accuracy: 0.8588 - val_loss: 0.3888 - val_accuracy: 0.8793\n",
      "Epoch 3/25\n",
      "12/12 [==============================] - 43s 4s/step - loss: 0.2574 - accuracy: 0.9153 - val_loss: 0.3741 - val_accuracy: 0.8448\n",
      "Epoch 4/25\n",
      "12/12 [==============================] - 43s 3s/step - loss: 0.2279 - accuracy: 0.9379 - val_loss: 0.3144 - val_accuracy: 0.9138\n",
      "Epoch 5/25\n",
      "12/12 [==============================] - 43s 4s/step - loss: 0.1789 - accuracy: 0.9605 - val_loss: 0.3022 - val_accuracy: 0.8793\n",
      "Epoch 6/25\n",
      "12/12 [==============================] - 44s 4s/step - loss: 0.1521 - accuracy: 0.9492 - val_loss: 0.2606 - val_accuracy: 0.9138\n",
      "Epoch 7/25\n",
      "12/12 [==============================] - 43s 3s/step - loss: 0.1376 - accuracy: 0.9746 - val_loss: 0.2392 - val_accuracy: 0.9310\n",
      "Epoch 8/25\n",
      "12/12 [==============================] - 43s 3s/step - loss: 0.1228 - accuracy: 0.9802 - val_loss: 0.2592 - val_accuracy: 0.8793\n",
      "Epoch 9/25\n",
      "12/12 [==============================] - 43s 4s/step - loss: 0.1213 - accuracy: 0.9746 - val_loss: 0.2243 - val_accuracy: 0.9310\n",
      "Epoch 10/25\n",
      "12/12 [==============================] - 43s 3s/step - loss: 0.1004 - accuracy: 0.9915 - val_loss: 0.2574 - val_accuracy: 0.9138\n",
      "Epoch 11/25\n",
      "12/12 [==============================] - 45s 4s/step - loss: 0.1009 - accuracy: 0.9831 - val_loss: 0.2072 - val_accuracy: 0.9310\n",
      "Epoch 12/25\n",
      "12/12 [==============================] - 43s 4s/step - loss: 0.0853 - accuracy: 0.9887 - val_loss: 0.1942 - val_accuracy: 0.9483\n",
      "Epoch 13/25\n",
      "12/12 [==============================] - 43s 4s/step - loss: 0.0747 - accuracy: 0.9944 - val_loss: 0.2291 - val_accuracy: 0.9138\n",
      "Epoch 14/25\n",
      "12/12 [==============================] - 43s 4s/step - loss: 0.0697 - accuracy: 0.9915 - val_loss: 0.1860 - val_accuracy: 0.9655\n",
      "Epoch 15/25\n",
      "12/12 [==============================] - 42s 4s/step - loss: 0.0628 - accuracy: 0.9915 - val_loss: 0.1825 - val_accuracy: 0.9655\n",
      "Epoch 16/25\n",
      "12/12 [==============================] - 43s 3s/step - loss: 0.0682 - accuracy: 0.9944 - val_loss: 0.1575 - val_accuracy: 0.9655\n",
      "Epoch 17/25\n",
      "12/12 [==============================] - 43s 4s/step - loss: 0.0654 - accuracy: 0.9972 - val_loss: 0.1896 - val_accuracy: 0.9483\n",
      "Epoch 18/25\n",
      "12/12 [==============================] - 43s 4s/step - loss: 0.0615 - accuracy: 0.9887 - val_loss: 0.1617 - val_accuracy: 0.9483\n",
      "Epoch 19/25\n",
      "12/12 [==============================] - 41s 3s/step - loss: 0.0547 - accuracy: 0.9944 - val_loss: 0.2074 - val_accuracy: 0.9310\n",
      "Epoch 20/25\n",
      "12/12 [==============================] - 42s 3s/step - loss: 0.0482 - accuracy: 1.0000 - val_loss: 0.1541 - val_accuracy: 0.9828\n",
      "Epoch 21/25\n",
      "12/12 [==============================] - 43s 4s/step - loss: 0.0459 - accuracy: 0.9972 - val_loss: 0.1901 - val_accuracy: 0.9310\n",
      "Epoch 22/25\n",
      "12/12 [==============================] - 43s 4s/step - loss: 0.0475 - accuracy: 1.0000 - val_loss: 0.1676 - val_accuracy: 0.9655\n",
      "Epoch 23/25\n",
      "12/12 [==============================] - 42s 4s/step - loss: 0.0423 - accuracy: 1.0000 - val_loss: 0.1469 - val_accuracy: 0.9655\n",
      "Epoch 24/25\n",
      "12/12 [==============================] - 43s 3s/step - loss: 0.0428 - accuracy: 1.0000 - val_loss: 0.1519 - val_accuracy: 0.9483\n",
      "Epoch 25/25\n",
      "12/12 [==============================] - 43s 3s/step - loss: 0.0403 - accuracy: 1.0000 - val_loss: 0.1800 - val_accuracy: 0.9483\n"
     ]
    },
    {
     "data": {
      "text/plain": [
       "<keras.callbacks.History at 0x1e085401360>"
      ]
     },
     "execution_count": 25,
     "metadata": {},
     "output_type": "execute_result"
    }
   ],
   "source": [
    "# Adding Early Stopping Callback\n",
    "early_stopping_callback = EarlyStopping(monitor = 'val_loss', patience = 10, mode = 'min', restore_best_weights = True)\n",
    " \n",
    "# Adding loss, optimizer and metrics values to the model.\n",
    "model.compile(loss = 'binary_crossentropy', optimizer = 'Adam', metrics = [\"accuracy\"])\n",
    " \n",
    "# Start Training\n",
    "model.fit_generator(training_set,\n",
    "         steps_per_epoch=len(training_set),\n",
    "         epochs=25,\n",
    "         validation_data=test_set,\n",
    "         validation_steps=len(test_set),\n",
    "        callbacks = [early_stopping_callback])"
   ]
  },
  {
   "cell_type": "code",
   "execution_count": 26,
   "id": "c3b62ed8",
   "metadata": {},
   "outputs": [],
   "source": [
    "model.save('models/WEAPON_MODEL_4.h5')"
   ]
  },
  {
   "cell_type": "code",
   "execution_count": 27,
   "id": "7b3b83b4",
   "metadata": {},
   "outputs": [
    {
     "ename": "ValueError",
     "evalue": "in user code:\n\n    File \"C:\\Users\\itsni\\AppData\\Roaming\\Python\\Python310\\site-packages\\keras\\engine\\training.py\", line 1845, in predict_function  *\n        return step_function(self, iterator)\n    File \"C:\\Users\\itsni\\AppData\\Roaming\\Python\\Python310\\site-packages\\keras\\engine\\training.py\", line 1834, in step_function  **\n        outputs = model.distribute_strategy.run(run_step, args=(data,))\n    File \"C:\\Users\\itsni\\AppData\\Roaming\\Python\\Python310\\site-packages\\keras\\engine\\training.py\", line 1823, in run_step  **\n        outputs = model.predict_step(data)\n    File \"C:\\Users\\itsni\\AppData\\Roaming\\Python\\Python310\\site-packages\\keras\\engine\\training.py\", line 1791, in predict_step\n        return self(x, training=False)\n    File \"C:\\Users\\itsni\\AppData\\Roaming\\Python\\Python310\\site-packages\\keras\\utils\\traceback_utils.py\", line 67, in error_handler\n        raise e.with_traceback(filtered_tb) from None\n    File \"C:\\Users\\itsni\\AppData\\Roaming\\Python\\Python310\\site-packages\\keras\\engine\\input_spec.py\", line 264, in assert_input_compatibility\n        raise ValueError(f'Input {input_index} of layer \"{layer_name}\" is '\n\n    ValueError: Input 0 of layer \"model_1\" is incompatible with the layer: expected shape=(None, 128, 126, 3), found shape=(None, 126, 128, 3)\n",
     "output_type": "error",
     "traceback": [
      "\u001b[1;31m---------------------------------------------------------------------------\u001b[0m",
      "\u001b[1;31mValueError\u001b[0m                                Traceback (most recent call last)",
      "Input \u001b[1;32mIn [27]\u001b[0m, in \u001b[0;36m<cell line: 5>\u001b[1;34m()\u001b[0m\n\u001b[0;32m      2\u001b[0m test_image \u001b[38;5;241m=\u001b[39m image\u001b[38;5;241m.\u001b[39mimg_to_array(test_image)\n\u001b[0;32m      3\u001b[0m test_image \u001b[38;5;241m=\u001b[39m np\u001b[38;5;241m.\u001b[39mexpand_dims(test_image, axis\u001b[38;5;241m=\u001b[39m\u001b[38;5;241m0\u001b[39m)\n\u001b[1;32m----> 5\u001b[0m prediction \u001b[38;5;241m=\u001b[39m \u001b[43mmodel\u001b[49m\u001b[38;5;241;43m.\u001b[39;49m\u001b[43mpredict\u001b[49m\u001b[43m(\u001b[49m\u001b[43mtest_image\u001b[49m\u001b[43m)\u001b[49m\n\u001b[0;32m      6\u001b[0m \u001b[38;5;28mprint\u001b[39m(prediction)\n",
      "File \u001b[1;32m~\\AppData\\Roaming\\Python\\Python310\\site-packages\\keras\\utils\\traceback_utils.py:67\u001b[0m, in \u001b[0;36mfilter_traceback.<locals>.error_handler\u001b[1;34m(*args, **kwargs)\u001b[0m\n\u001b[0;32m     65\u001b[0m \u001b[38;5;28;01mexcept\u001b[39;00m \u001b[38;5;167;01mException\u001b[39;00m \u001b[38;5;28;01mas\u001b[39;00m e:  \u001b[38;5;66;03m# pylint: disable=broad-except\u001b[39;00m\n\u001b[0;32m     66\u001b[0m   filtered_tb \u001b[38;5;241m=\u001b[39m _process_traceback_frames(e\u001b[38;5;241m.\u001b[39m__traceback__)\n\u001b[1;32m---> 67\u001b[0m   \u001b[38;5;28;01mraise\u001b[39;00m e\u001b[38;5;241m.\u001b[39mwith_traceback(filtered_tb) \u001b[38;5;28;01mfrom\u001b[39;00m \u001b[38;5;28mNone\u001b[39m\n\u001b[0;32m     68\u001b[0m \u001b[38;5;28;01mfinally\u001b[39;00m:\n\u001b[0;32m     69\u001b[0m   \u001b[38;5;28;01mdel\u001b[39;00m filtered_tb\n",
      "File \u001b[1;32m~\\AppData\\Local\\Temp\\__autograph_generated_filetqurahwf.py:15\u001b[0m, in \u001b[0;36mouter_factory.<locals>.inner_factory.<locals>.tf__predict_function\u001b[1;34m(iterator)\u001b[0m\n\u001b[0;32m     13\u001b[0m \u001b[38;5;28;01mtry\u001b[39;00m:\n\u001b[0;32m     14\u001b[0m     do_return \u001b[38;5;241m=\u001b[39m \u001b[38;5;28;01mTrue\u001b[39;00m\n\u001b[1;32m---> 15\u001b[0m     retval_ \u001b[38;5;241m=\u001b[39m ag__\u001b[38;5;241m.\u001b[39mconverted_call(ag__\u001b[38;5;241m.\u001b[39mld(step_function), (ag__\u001b[38;5;241m.\u001b[39mld(\u001b[38;5;28mself\u001b[39m), ag__\u001b[38;5;241m.\u001b[39mld(iterator)), \u001b[38;5;28;01mNone\u001b[39;00m, fscope)\n\u001b[0;32m     16\u001b[0m \u001b[38;5;28;01mexcept\u001b[39;00m:\n\u001b[0;32m     17\u001b[0m     do_return \u001b[38;5;241m=\u001b[39m \u001b[38;5;28;01mFalse\u001b[39;00m\n",
      "\u001b[1;31mValueError\u001b[0m: in user code:\n\n    File \"C:\\Users\\itsni\\AppData\\Roaming\\Python\\Python310\\site-packages\\keras\\engine\\training.py\", line 1845, in predict_function  *\n        return step_function(self, iterator)\n    File \"C:\\Users\\itsni\\AppData\\Roaming\\Python\\Python310\\site-packages\\keras\\engine\\training.py\", line 1834, in step_function  **\n        outputs = model.distribute_strategy.run(run_step, args=(data,))\n    File \"C:\\Users\\itsni\\AppData\\Roaming\\Python\\Python310\\site-packages\\keras\\engine\\training.py\", line 1823, in run_step  **\n        outputs = model.predict_step(data)\n    File \"C:\\Users\\itsni\\AppData\\Roaming\\Python\\Python310\\site-packages\\keras\\engine\\training.py\", line 1791, in predict_step\n        return self(x, training=False)\n    File \"C:\\Users\\itsni\\AppData\\Roaming\\Python\\Python310\\site-packages\\keras\\utils\\traceback_utils.py\", line 67, in error_handler\n        raise e.with_traceback(filtered_tb) from None\n    File \"C:\\Users\\itsni\\AppData\\Roaming\\Python\\Python310\\site-packages\\keras\\engine\\input_spec.py\", line 264, in assert_input_compatibility\n        raise ValueError(f'Input {input_index} of layer \"{layer_name}\" is '\n\n    ValueError: Input 0 of layer \"model_1\" is incompatible with the layer: expected shape=(None, 128, 126, 3), found shape=(None, 126, 128, 3)\n"
     ]
    }
   ],
   "source": [
    "test_image = image.load_img('testing_data/weapon.jpg', target_size=(image_width, image_height))\n",
    "test_image = image.img_to_array(test_image)\n",
    "test_image = np.expand_dims(test_image, axis=0)\n",
    "\n",
    "prediction = model.predict(test_image)\n",
    "print(prediction)"
   ]
  },
  {
   "cell_type": "code",
   "execution_count": null,
   "id": "99dac308",
   "metadata": {},
   "outputs": [],
   "source": []
  }
 ],
 "metadata": {
  "kernelspec": {
   "display_name": "Python 3 (ipykernel)",
   "language": "python",
   "name": "python3"
  },
  "language_info": {
   "codemirror_mode": {
    "name": "ipython",
    "version": 3
   },
   "file_extension": ".py",
   "mimetype": "text/x-python",
   "name": "python",
   "nbconvert_exporter": "python",
   "pygments_lexer": "ipython3",
   "version": "3.10.4"
  }
 },
 "nbformat": 4,
 "nbformat_minor": 5
}
