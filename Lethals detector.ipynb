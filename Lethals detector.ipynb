{
 "cells": [
  {
   "cell_type": "code",
   "execution_count": 1,
   "id": "28ed2ca9",
   "metadata": {},
   "outputs": [],
   "source": [
    "from tensorflow.keras.models import Sequential, load_model, Model\n",
    "from tensorflow.keras.layers import Conv2D , MaxPool2D, Flatten, Dense, Conv2D, Dropout, Convolution2D\n",
    "from tensorflow.keras.preprocessing.image import ImageDataGenerator\n",
    "from tensorflow.keras.callbacks import EarlyStopping\n",
    "from keras.applications.vgg16 import VGG16\n",
    "\n",
    "import warnings\n",
    "import glob\n",
    "import cv2\n",
    "\n",
    "import numpy as np\n",
    "from tensorflow.keras.preprocessing import image\n",
    "warnings.filterwarnings('ignore')"
   ]
  },
  {
   "cell_type": "code",
   "execution_count": 2,
   "id": "fc040a66",
   "metadata": {},
   "outputs": [],
   "source": [
    "DATASET_PATH = 'datasets/weapon_dataset_v2'\n",
    "\n",
    "image_height = 64\n",
    "image_width = 64\n",
    "classes_list = [ 'normal', 'weapon']"
   ]
  },
  {
   "cell_type": "code",
   "execution_count": 3,
   "id": "4dfa720b",
   "metadata": {},
   "outputs": [],
   "source": [
    "vgg = VGG16(input_shape=[image_height, image_width] + [3], weights='imagenet', include_top=False)"
   ]
  },
  {
   "cell_type": "code",
   "execution_count": 4,
   "id": "491a7ec9",
   "metadata": {},
   "outputs": [],
   "source": [
    "for layer in vgg.layers:\n",
    "    layer.trainable = False"
   ]
  },
  {
   "cell_type": "code",
   "execution_count": 5,
   "id": "64c9d0d9",
   "metadata": {},
   "outputs": [],
   "source": [
    "x = Flatten()(vgg.output)"
   ]
  },
  {
   "cell_type": "code",
   "execution_count": 6,
   "id": "086bc3e6",
   "metadata": {},
   "outputs": [],
   "source": [
    "prediction = Dense(1, activation='sigmoid')(x)\n",
    "\n",
    "# create a model object\n",
    "model = Model(inputs=vgg.input, outputs=prediction)"
   ]
  },
  {
   "cell_type": "code",
   "execution_count": 7,
   "id": "cb0bb875",
   "metadata": {},
   "outputs": [
    {
     "name": "stdout",
     "output_type": "stream",
     "text": [
      "Model: \"model\"\n",
      "_________________________________________________________________\n",
      " Layer (type)                Output Shape              Param #   \n",
      "=================================================================\n",
      " input_1 (InputLayer)        [(None, 64, 64, 3)]       0         \n",
      "                                                                 \n",
      " block1_conv1 (Conv2D)       (None, 64, 64, 64)        1792      \n",
      "                                                                 \n",
      " block1_conv2 (Conv2D)       (None, 64, 64, 64)        36928     \n",
      "                                                                 \n",
      " block1_pool (MaxPooling2D)  (None, 32, 32, 64)        0         \n",
      "                                                                 \n",
      " block2_conv1 (Conv2D)       (None, 32, 32, 128)       73856     \n",
      "                                                                 \n",
      " block2_conv2 (Conv2D)       (None, 32, 32, 128)       147584    \n",
      "                                                                 \n",
      " block2_pool (MaxPooling2D)  (None, 16, 16, 128)       0         \n",
      "                                                                 \n",
      " block3_conv1 (Conv2D)       (None, 16, 16, 256)       295168    \n",
      "                                                                 \n",
      " block3_conv2 (Conv2D)       (None, 16, 16, 256)       590080    \n",
      "                                                                 \n",
      " block3_conv3 (Conv2D)       (None, 16, 16, 256)       590080    \n",
      "                                                                 \n",
      " block3_pool (MaxPooling2D)  (None, 8, 8, 256)         0         \n",
      "                                                                 \n",
      " block4_conv1 (Conv2D)       (None, 8, 8, 512)         1180160   \n",
      "                                                                 \n",
      " block4_conv2 (Conv2D)       (None, 8, 8, 512)         2359808   \n",
      "                                                                 \n",
      " block4_conv3 (Conv2D)       (None, 8, 8, 512)         2359808   \n",
      "                                                                 \n",
      " block4_pool (MaxPooling2D)  (None, 4, 4, 512)         0         \n",
      "                                                                 \n",
      " block5_conv1 (Conv2D)       (None, 4, 4, 512)         2359808   \n",
      "                                                                 \n",
      " block5_conv2 (Conv2D)       (None, 4, 4, 512)         2359808   \n",
      "                                                                 \n",
      " block5_conv3 (Conv2D)       (None, 4, 4, 512)         2359808   \n",
      "                                                                 \n",
      " block5_pool (MaxPooling2D)  (None, 2, 2, 512)         0         \n",
      "                                                                 \n",
      " flatten (Flatten)           (None, 2048)              0         \n",
      "                                                                 \n",
      " dense (Dense)               (None, 1)                 2049      \n",
      "                                                                 \n",
      "=================================================================\n",
      "Total params: 14,716,737\n",
      "Trainable params: 2,049\n",
      "Non-trainable params: 14,714,688\n",
      "_________________________________________________________________\n"
     ]
    }
   ],
   "source": [
    "model.summary()"
   ]
  },
  {
   "cell_type": "code",
   "execution_count": 8,
   "id": "7cceeabd",
   "metadata": {},
   "outputs": [],
   "source": [
    "# model = Sequential()\n",
    "    \n",
    "# # Layer: 1\n",
    "# model.add(Conv2D(filters = 16, kernel_size = 3, padding='same',activation = 'relu', input_shape = (image_height, image_width, 3)))\n",
    "# model.add(MaxPool2D(4,4))\n",
    "# model.add(Dropout(0.25))\n",
    "\n",
    "# # Layer: 2\n",
    "# model.add(Conv2D(filters= 32, kernel_size=3,padding='same', activation='relu'))\n",
    "# model.add(MaxPool2D(4,4))\n",
    "# model.add(Dropout(0.25))\n",
    "\n",
    "# # Layer: 3\n",
    "# model.add(Conv2D(filters= 64, kernel_size=3,padding='same', activation='relu'))\n",
    "# model.add(MaxPool2D(2,2))\n",
    "# model.add(Dropout(0.25))\n",
    "\n",
    "# # Layer: 4\n",
    "# model.add(Conv2D(filters= 64, kernel_size=3,padding='same', activation='relu'))\n",
    "# model.add(MaxPool2D(2,2))\n",
    "# model.add(Dropout(0.25))\n",
    "\n",
    "# # Flatten Layer\n",
    "# model.add(Flatten())\n",
    "\n",
    "# # Final Classification Layer\n",
    "# model.add(Dense(1, activation='sigmoid'))"
   ]
  },
  {
   "cell_type": "code",
   "execution_count": 9,
   "id": "d20f1431",
   "metadata": {},
   "outputs": [],
   "source": [
    "train_datagen = ImageDataGenerator(rescale=1./255, shear_range=0.2, zoom_range=0.2, horizontal_flip=True)\n",
    "test_datagen = ImageDataGenerator(rescale=1./255)"
   ]
  },
  {
   "cell_type": "code",
   "execution_count": 10,
   "id": "310f0777",
   "metadata": {},
   "outputs": [
    {
     "name": "stdout",
     "output_type": "stream",
     "text": [
      "Found 354 images belonging to 2 classes.\n"
     ]
    }
   ],
   "source": [
    "training_set = train_datagen.flow_from_directory(\n",
    "                            DATASET_PATH + '/training_set',\n",
    "                            target_size=(image_width, image_height),\n",
    "                            class_mode='binary')"
   ]
  },
  {
   "cell_type": "code",
   "execution_count": 11,
   "id": "273742a3",
   "metadata": {},
   "outputs": [
    {
     "name": "stdout",
     "output_type": "stream",
     "text": [
      "Found 58 images belonging to 2 classes.\n"
     ]
    }
   ],
   "source": [
    "test_set = train_datagen.flow_from_directory(\n",
    "                            DATASET_PATH + '/testing_set',\n",
    "                            target_size=(image_width, image_height),\n",
    "                            class_mode='binary')"
   ]
  },
  {
   "cell_type": "code",
   "execution_count": 12,
   "id": "7e83753e",
   "metadata": {},
   "outputs": [
    {
     "name": "stdout",
     "output_type": "stream",
     "text": [
      "Epoch 1/25\n",
      "12/12 [==============================] - 66s 5s/step - loss: 0.6179 - accuracy: 0.6723 - val_loss: 0.6048 - val_accuracy: 0.6897\n",
      "Epoch 2/25\n",
      "12/12 [==============================] - 44s 4s/step - loss: 0.4515 - accuracy: 0.7571 - val_loss: 0.4955 - val_accuracy: 0.7586\n",
      "Epoch 3/25\n",
      "12/12 [==============================] - 36s 3s/step - loss: 0.3744 - accuracy: 0.8842 - val_loss: 0.4734 - val_accuracy: 0.7759\n",
      "Epoch 4/25\n",
      "12/12 [==============================] - 35s 3s/step - loss: 0.3074 - accuracy: 0.8898 - val_loss: 0.4628 - val_accuracy: 0.7759\n",
      "Epoch 5/25\n",
      "12/12 [==============================] - 35s 3s/step - loss: 0.2806 - accuracy: 0.9124 - val_loss: 0.4107 - val_accuracy: 0.8276\n",
      "Epoch 6/25\n",
      "12/12 [==============================] - 35s 3s/step - loss: 0.2564 - accuracy: 0.9492 - val_loss: 0.3921 - val_accuracy: 0.8448\n",
      "Epoch 7/25\n",
      "12/12 [==============================] - 35s 3s/step - loss: 0.2244 - accuracy: 0.9294 - val_loss: 0.4109 - val_accuracy: 0.8103\n",
      "Epoch 8/25\n",
      "12/12 [==============================] - 35s 3s/step - loss: 0.2019 - accuracy: 0.9407 - val_loss: 0.3882 - val_accuracy: 0.8448\n",
      "Epoch 9/25\n",
      "12/12 [==============================] - 35s 3s/step - loss: 0.2031 - accuracy: 0.9520 - val_loss: 0.3786 - val_accuracy: 0.8793\n",
      "Epoch 10/25\n",
      "12/12 [==============================] - 35s 3s/step - loss: 0.1883 - accuracy: 0.9379 - val_loss: 0.3468 - val_accuracy: 0.8793\n",
      "Epoch 11/25\n",
      "12/12 [==============================] - 35s 3s/step - loss: 0.1795 - accuracy: 0.9520 - val_loss: 0.3522 - val_accuracy: 0.8621\n",
      "Epoch 12/25\n",
      "12/12 [==============================] - 35s 3s/step - loss: 0.1658 - accuracy: 0.9661 - val_loss: 0.3451 - val_accuracy: 0.8276\n",
      "Epoch 13/25\n",
      "12/12 [==============================] - 35s 3s/step - loss: 0.1545 - accuracy: 0.9605 - val_loss: 0.3111 - val_accuracy: 0.8966\n",
      "Epoch 14/25\n",
      "12/12 [==============================] - 35s 3s/step - loss: 0.1616 - accuracy: 0.9605 - val_loss: 0.3060 - val_accuracy: 0.8793\n",
      "Epoch 15/25\n",
      "12/12 [==============================] - 35s 3s/step - loss: 0.1454 - accuracy: 0.9661 - val_loss: 0.3451 - val_accuracy: 0.8276\n",
      "Epoch 16/25\n",
      "12/12 [==============================] - 35s 3s/step - loss: 0.1273 - accuracy: 0.9718 - val_loss: 0.3239 - val_accuracy: 0.8793\n",
      "Epoch 17/25\n",
      "12/12 [==============================] - 35s 3s/step - loss: 0.1304 - accuracy: 0.9605 - val_loss: 0.2851 - val_accuracy: 0.9138\n",
      "Epoch 18/25\n",
      "12/12 [==============================] - 35s 3s/step - loss: 0.1276 - accuracy: 0.9718 - val_loss: 0.2662 - val_accuracy: 0.8793\n",
      "Epoch 19/25\n",
      "12/12 [==============================] - 35s 3s/step - loss: 0.1159 - accuracy: 0.9802 - val_loss: 0.3260 - val_accuracy: 0.8621\n",
      "Epoch 20/25\n",
      "12/12 [==============================] - 35s 3s/step - loss: 0.1198 - accuracy: 0.9661 - val_loss: 0.2676 - val_accuracy: 0.8793\n",
      "Epoch 21/25\n",
      "12/12 [==============================] - 35s 3s/step - loss: 0.1161 - accuracy: 0.9718 - val_loss: 0.2311 - val_accuracy: 0.8966\n",
      "Epoch 22/25\n",
      "12/12 [==============================] - 35s 3s/step - loss: 0.1207 - accuracy: 0.9661 - val_loss: 0.2595 - val_accuracy: 0.9310\n",
      "Epoch 23/25\n",
      "12/12 [==============================] - 35s 3s/step - loss: 0.0916 - accuracy: 0.9887 - val_loss: 0.2546 - val_accuracy: 0.8793\n",
      "Epoch 24/25\n",
      "12/12 [==============================] - 35s 3s/step - loss: 0.1081 - accuracy: 0.9746 - val_loss: 0.2873 - val_accuracy: 0.8793\n",
      "Epoch 25/25\n",
      "12/12 [==============================] - 35s 3s/step - loss: 0.1139 - accuracy: 0.9746 - val_loss: 0.2326 - val_accuracy: 0.9310\n"
     ]
    },
    {
     "data": {
      "text/plain": [
       "<keras.callbacks.History at 0x16d1134eda0>"
      ]
     },
     "execution_count": 12,
     "metadata": {},
     "output_type": "execute_result"
    }
   ],
   "source": [
    "# Adding Early Stopping Callback\n",
    "early_stopping_callback = EarlyStopping(monitor = 'val_loss', patience = 10, mode = 'min', restore_best_weights = True)\n",
    " \n",
    "# Adding loss, optimizer and metrics values to the model.\n",
    "model.compile(loss = 'binary_crossentropy', optimizer = 'Adam', metrics = [\"accuracy\"])\n",
    " \n",
    "# Start Training\n",
    "model.fit_generator(training_set,\n",
    "         steps_per_epoch=len(training_set),\n",
    "         epochs=25,\n",
    "         validation_data=test_set,\n",
    "         validation_steps=len(test_set),\n",
    "        callbacks = [early_stopping_callback])"
   ]
  },
  {
   "cell_type": "code",
   "execution_count": 16,
   "id": "c3b62ed8",
   "metadata": {},
   "outputs": [],
   "source": [
    "model.save('models/WEAPON_MODEL_64.h5')"
   ]
  },
  {
   "cell_type": "code",
   "execution_count": 17,
   "id": "962982ed",
   "metadata": {},
   "outputs": [],
   "source": [
    "# model = load_model('models/WEAPON_MODEL_128.h5')"
   ]
  },
  {
   "cell_type": "code",
   "execution_count": 19,
   "id": "7b3b83b4",
   "metadata": {},
   "outputs": [
    {
     "name": "stdout",
     "output_type": "stream",
     "text": [
      "1/1 [==============================] - 0s 216ms/step\n",
      "[[0.894908]]\n"
     ]
    }
   ],
   "source": [
    "test_image = image.load_img('testing_data/weapon.jpg', target_size=(image_width, image_height))\n",
    "test_image = image.img_to_array(test_image)\n",
    "test_image = np.expand_dims(test_image, axis=0)\n",
    "\n",
    "prediction = model.predict(test_image)\n",
    "print(prediction)"
   ]
  },
  {
   "cell_type": "code",
   "execution_count": null,
   "id": "99dac308",
   "metadata": {},
   "outputs": [],
   "source": []
  }
 ],
 "metadata": {
  "kernelspec": {
   "display_name": "Python 3 (ipykernel)",
   "language": "python",
   "name": "python3"
  },
  "language_info": {
   "codemirror_mode": {
    "name": "ipython",
    "version": 3
   },
   "file_extension": ".py",
   "mimetype": "text/x-python",
   "name": "python",
   "nbconvert_exporter": "python",
   "pygments_lexer": "ipython3",
   "version": "3.10.4"
  }
 },
 "nbformat": 4,
 "nbformat_minor": 5
}
