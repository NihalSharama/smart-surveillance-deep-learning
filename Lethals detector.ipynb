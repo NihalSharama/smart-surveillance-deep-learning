{
 "cells": [
  {
   "cell_type": "code",
   "execution_count": 1,
   "id": "28ed2ca9",
   "metadata": {},
   "outputs": [],
   "source": [
    "from tensorflow.keras.models import Sequential, load_model, Model\n",
    "from tensorflow.keras.layers import Conv2D , MaxPool2D, Flatten, Dense, Conv2D, Dropout, Convolution2D\n",
    "from tensorflow.keras.preprocessing.image import ImageDataGenerator\n",
    "from tensorflow.keras.callbacks import EarlyStopping\n",
    "from keras.applications.vgg16 import VGG16\n",
    "\n",
    "import warnings\n",
    "import glob\n",
    "import cv2\n",
    "\n",
    "import numpy as np\n",
    "from tensorflow.keras.preprocessing import image\n",
    "warnings.filterwarnings('ignore')"
   ]
  },
  {
   "cell_type": "code",
   "execution_count": 2,
   "id": "fc040a66",
   "metadata": {},
   "outputs": [],
   "source": [
    "DATASET_PATH = 'datasets/weapon_dataset_v2'\n",
    "\n",
    "image_height = 128\n",
    "image_width = 128\n",
    "classes_list = [ 'normal', 'weapon']"
   ]
  },
  {
   "cell_type": "code",
   "execution_count": 3,
   "id": "4dfa720b",
   "metadata": {},
   "outputs": [],
   "source": [
    "vgg = VGG16(input_shape=[image_height, image_width] + [3], weights='imagenet', include_top=False)"
   ]
  },
  {
   "cell_type": "code",
   "execution_count": 4,
   "id": "491a7ec9",
   "metadata": {},
   "outputs": [],
   "source": [
    "for layer in vgg.layers:\n",
    "    layer.trainable = False"
   ]
  },
  {
   "cell_type": "code",
   "execution_count": 5,
   "id": "64c9d0d9",
   "metadata": {},
   "outputs": [],
   "source": [
    "x = Flatten()(vgg.output)"
   ]
  },
  {
   "cell_type": "code",
   "execution_count": 6,
   "id": "086bc3e6",
   "metadata": {},
   "outputs": [],
   "source": [
    "prediction = Dense(1, activation='sigmoid')(x)\n",
    "\n",
    "# create a model object\n",
    "model = Model(inputs=vgg.input, outputs=prediction)"
   ]
  },
  {
   "cell_type": "code",
   "execution_count": 7,
   "id": "cb0bb875",
   "metadata": {},
   "outputs": [
    {
     "name": "stdout",
     "output_type": "stream",
     "text": [
      "Model: \"model\"\n",
      "_________________________________________________________________\n",
      " Layer (type)                Output Shape              Param #   \n",
      "=================================================================\n",
      " input_1 (InputLayer)        [(None, 128, 128, 3)]     0         \n",
      "                                                                 \n",
      " block1_conv1 (Conv2D)       (None, 128, 128, 64)      1792      \n",
      "                                                                 \n",
      " block1_conv2 (Conv2D)       (None, 128, 128, 64)      36928     \n",
      "                                                                 \n",
      " block1_pool (MaxPooling2D)  (None, 64, 64, 64)        0         \n",
      "                                                                 \n",
      " block2_conv1 (Conv2D)       (None, 64, 64, 128)       73856     \n",
      "                                                                 \n",
      " block2_conv2 (Conv2D)       (None, 64, 64, 128)       147584    \n",
      "                                                                 \n",
      " block2_pool (MaxPooling2D)  (None, 32, 32, 128)       0         \n",
      "                                                                 \n",
      " block3_conv1 (Conv2D)       (None, 32, 32, 256)       295168    \n",
      "                                                                 \n",
      " block3_conv2 (Conv2D)       (None, 32, 32, 256)       590080    \n",
      "                                                                 \n",
      " block3_conv3 (Conv2D)       (None, 32, 32, 256)       590080    \n",
      "                                                                 \n",
      " block3_pool (MaxPooling2D)  (None, 16, 16, 256)       0         \n",
      "                                                                 \n",
      " block4_conv1 (Conv2D)       (None, 16, 16, 512)       1180160   \n",
      "                                                                 \n",
      " block4_conv2 (Conv2D)       (None, 16, 16, 512)       2359808   \n",
      "                                                                 \n",
      " block4_conv3 (Conv2D)       (None, 16, 16, 512)       2359808   \n",
      "                                                                 \n",
      " block4_pool (MaxPooling2D)  (None, 8, 8, 512)         0         \n",
      "                                                                 \n",
      " block5_conv1 (Conv2D)       (None, 8, 8, 512)         2359808   \n",
      "                                                                 \n",
      " block5_conv2 (Conv2D)       (None, 8, 8, 512)         2359808   \n",
      "                                                                 \n",
      " block5_conv3 (Conv2D)       (None, 8, 8, 512)         2359808   \n",
      "                                                                 \n",
      " block5_pool (MaxPooling2D)  (None, 4, 4, 512)         0         \n",
      "                                                                 \n",
      " flatten (Flatten)           (None, 8192)              0         \n",
      "                                                                 \n",
      " dense (Dense)               (None, 1)                 8193      \n",
      "                                                                 \n",
      "=================================================================\n",
      "Total params: 14,722,881\n",
      "Trainable params: 8,193\n",
      "Non-trainable params: 14,714,688\n",
      "_________________________________________________________________\n"
     ]
    }
   ],
   "source": [
    "model.summary()"
   ]
  },
  {
   "cell_type": "code",
   "execution_count": 8,
   "id": "7cceeabd",
   "metadata": {},
   "outputs": [],
   "source": [
    "# model = Sequential()\n",
    "    \n",
    "# # Layer: 1\n",
    "# model.add(Conv2D(filters = 16, kernel_size = 3, padding='same',activation = 'relu', input_shape = (image_height, image_width, 3)))\n",
    "# model.add(MaxPool2D(4,4))\n",
    "# model.add(Dropout(0.25))\n",
    "\n",
    "# # Layer: 2\n",
    "# model.add(Conv2D(filters= 32, kernel_size=3,padding='same', activation='relu'))\n",
    "# model.add(MaxPool2D(4,4))\n",
    "# model.add(Dropout(0.25))\n",
    "\n",
    "# # Layer: 3\n",
    "# model.add(Conv2D(filters= 64, kernel_size=3,padding='same', activation='relu'))\n",
    "# model.add(MaxPool2D(2,2))\n",
    "# model.add(Dropout(0.25))\n",
    "\n",
    "# # Layer: 4\n",
    "# model.add(Conv2D(filters= 64, kernel_size=3,padding='same', activation='relu'))\n",
    "# model.add(MaxPool2D(2,2))\n",
    "# model.add(Dropout(0.25))\n",
    "\n",
    "# # Flatten Layer\n",
    "# model.add(Flatten())\n",
    "\n",
    "# # Final Classification Layer\n",
    "# model.add(Dense(1, activation='sigmoid'))"
   ]
  },
  {
   "cell_type": "code",
   "execution_count": 9,
   "id": "d20f1431",
   "metadata": {},
   "outputs": [],
   "source": [
    "train_datagen = ImageDataGenerator(rescale=1./255, shear_range=0.2, zoom_range=0.2, horizontal_flip=True)\n",
    "test_datagen = ImageDataGenerator(rescale=1./255)"
   ]
  },
  {
   "cell_type": "code",
   "execution_count": 10,
   "id": "310f0777",
   "metadata": {},
   "outputs": [
    {
     "name": "stdout",
     "output_type": "stream",
     "text": [
      "Found 354 images belonging to 2 classes.\n"
     ]
    }
   ],
   "source": [
    "training_set = train_datagen.flow_from_directory(\n",
    "                            DATASET_PATH + '/training_set',\n",
    "                            target_size=(image_width, image_height),\n",
    "                            class_mode='binary')"
   ]
  },
  {
   "cell_type": "code",
   "execution_count": 11,
   "id": "273742a3",
   "metadata": {},
   "outputs": [
    {
     "name": "stdout",
     "output_type": "stream",
     "text": [
      "Found 58 images belonging to 2 classes.\n"
     ]
    }
   ],
   "source": [
    "test_set = train_datagen.flow_from_directory(\n",
    "                            DATASET_PATH + '/testing_set',\n",
    "                            target_size=(image_width, image_height),\n",
    "                            class_mode='binary')"
   ]
  },
  {
   "cell_type": "code",
   "execution_count": 12,
   "id": "7e83753e",
   "metadata": {},
   "outputs": [
    {
     "name": "stdout",
     "output_type": "stream",
     "text": [
      "Epoch 1/25\n",
      "12/12 [==============================] - 66s 5s/step - loss: 0.4762 - accuracy: 0.7401 - val_loss: 0.4791 - val_accuracy: 0.8276\n",
      "Epoch 2/25\n",
      "12/12 [==============================] - 43s 3s/step - loss: 0.2495 - accuracy: 0.9124 - val_loss: 0.4215 - val_accuracy: 0.7931\n",
      "Epoch 3/25\n",
      "12/12 [==============================] - 43s 4s/step - loss: 0.1622 - accuracy: 0.9576 - val_loss: 0.3296 - val_accuracy: 0.8793\n",
      "Epoch 4/25\n",
      "12/12 [==============================] - 43s 4s/step - loss: 0.1613 - accuracy: 0.9463 - val_loss: 0.3848 - val_accuracy: 0.8276\n",
      "Epoch 5/25\n",
      "12/12 [==============================] - 46s 4s/step - loss: 0.1168 - accuracy: 0.9661 - val_loss: 0.2704 - val_accuracy: 0.8621\n",
      "Epoch 6/25\n",
      "12/12 [==============================] - 49s 4s/step - loss: 0.0939 - accuracy: 0.9802 - val_loss: 0.1823 - val_accuracy: 0.9310\n",
      "Epoch 7/25\n",
      "12/12 [==============================] - 45s 4s/step - loss: 0.0731 - accuracy: 0.9915 - val_loss: 0.2280 - val_accuracy: 0.8793\n",
      "Epoch 8/25\n",
      "12/12 [==============================] - 43s 4s/step - loss: 0.0779 - accuracy: 0.9718 - val_loss: 0.1926 - val_accuracy: 0.9310\n",
      "Epoch 9/25\n",
      "12/12 [==============================] - 43s 4s/step - loss: 0.0694 - accuracy: 0.9887 - val_loss: 0.1664 - val_accuracy: 0.9310\n",
      "Epoch 10/25\n",
      "12/12 [==============================] - 43s 4s/step - loss: 0.0587 - accuracy: 0.9915 - val_loss: 0.1516 - val_accuracy: 0.9483\n",
      "Epoch 11/25\n",
      "12/12 [==============================] - 42s 3s/step - loss: 0.0554 - accuracy: 0.9915 - val_loss: 0.1439 - val_accuracy: 0.9655\n",
      "Epoch 12/25\n",
      "12/12 [==============================] - 43s 4s/step - loss: 0.0498 - accuracy: 0.9915 - val_loss: 0.1327 - val_accuracy: 0.9655\n",
      "Epoch 13/25\n",
      "12/12 [==============================] - 43s 4s/step - loss: 0.0485 - accuracy: 0.9915 - val_loss: 0.1463 - val_accuracy: 0.9483\n",
      "Epoch 14/25\n",
      "12/12 [==============================] - 43s 4s/step - loss: 0.0518 - accuracy: 0.9887 - val_loss: 0.1585 - val_accuracy: 0.9310\n",
      "Epoch 15/25\n",
      "12/12 [==============================] - 43s 3s/step - loss: 0.0395 - accuracy: 0.9944 - val_loss: 0.1278 - val_accuracy: 0.9310\n",
      "Epoch 16/25\n",
      "12/12 [==============================] - 42s 3s/step - loss: 0.0397 - accuracy: 0.9944 - val_loss: 0.1130 - val_accuracy: 0.9655\n",
      "Epoch 17/25\n",
      "12/12 [==============================] - 42s 4s/step - loss: 0.0349 - accuracy: 0.9944 - val_loss: 0.1015 - val_accuracy: 0.9655\n",
      "Epoch 18/25\n",
      "12/12 [==============================] - 43s 4s/step - loss: 0.0348 - accuracy: 0.9972 - val_loss: 0.1380 - val_accuracy: 0.9483\n",
      "Epoch 19/25\n",
      "12/12 [==============================] - 44s 4s/step - loss: 0.0284 - accuracy: 0.9972 - val_loss: 0.1641 - val_accuracy: 0.9310\n",
      "Epoch 20/25\n",
      "12/12 [==============================] - 43s 4s/step - loss: 0.0254 - accuracy: 1.0000 - val_loss: 0.0978 - val_accuracy: 0.9483\n",
      "Epoch 21/25\n",
      "12/12 [==============================] - 42s 3s/step - loss: 0.0264 - accuracy: 0.9972 - val_loss: 0.1223 - val_accuracy: 0.9483\n",
      "Epoch 22/25\n",
      "12/12 [==============================] - 43s 3s/step - loss: 0.0209 - accuracy: 1.0000 - val_loss: 0.1088 - val_accuracy: 0.9483\n",
      "Epoch 23/25\n",
      "12/12 [==============================] - 43s 3s/step - loss: 0.0248 - accuracy: 0.9972 - val_loss: 0.0953 - val_accuracy: 0.9655\n",
      "Epoch 24/25\n",
      "12/12 [==============================] - 43s 4s/step - loss: 0.0212 - accuracy: 1.0000 - val_loss: 0.0906 - val_accuracy: 0.9655\n",
      "Epoch 25/25\n",
      "12/12 [==============================] - 43s 4s/step - loss: 0.0251 - accuracy: 1.0000 - val_loss: 0.1085 - val_accuracy: 0.9483\n"
     ]
    },
    {
     "data": {
      "text/plain": [
       "<keras.callbacks.History at 0x213270b2290>"
      ]
     },
     "execution_count": 12,
     "metadata": {},
     "output_type": "execute_result"
    }
   ],
   "source": [
    "# Adding Early Stopping Callback\n",
    "early_stopping_callback = EarlyStopping(monitor = 'val_loss', patience = 10, mode = 'min', restore_best_weights = True)\n",
    " \n",
    "# Adding loss, optimizer and metrics values to the model.\n",
    "model.compile(loss = 'binary_crossentropy', optimizer = 'Adam', metrics = [\"accuracy\"])\n",
    " \n",
    "# Start Training\n",
    "model.fit_generator(training_set,\n",
    "         steps_per_epoch=len(training_set),\n",
    "         epochs=25,\n",
    "         validation_data=test_set,\n",
    "         validation_steps=len(test_set),\n",
    "        callbacks = [early_stopping_callback])"
   ]
  },
  {
   "cell_type": "code",
   "execution_count": 13,
   "id": "c3b62ed8",
   "metadata": {},
   "outputs": [],
   "source": [
    "model.save('models/WEAPON_MODEL_4.h5')"
   ]
  },
  {
   "cell_type": "code",
   "execution_count": 14,
   "id": "7b3b83b4",
   "metadata": {},
   "outputs": [
    {
     "name": "stdout",
     "output_type": "stream",
     "text": [
      "1/1 [==============================] - 0s 313ms/step\n",
      "[[0.894908]]\n"
     ]
    }
   ],
   "source": [
    "test_image = image.load_img('testing_data/weapon.jpg', target_size=(image_width, image_height))\n",
    "test_image = image.img_to_array(test_image)\n",
    "test_image = np.expand_dims(test_image, axis=0)\n",
    "\n",
    "prediction = model.predict(test_image)\n",
    "print(prediction)"
   ]
  },
  {
   "cell_type": "code",
   "execution_count": null,
   "id": "99dac308",
   "metadata": {},
   "outputs": [],
   "source": []
  }
 ],
 "metadata": {
  "kernelspec": {
   "display_name": "Python 3 (ipykernel)",
   "language": "python",
   "name": "python3"
  },
  "language_info": {
   "codemirror_mode": {
    "name": "ipython",
    "version": 3
   },
   "file_extension": ".py",
   "mimetype": "text/x-python",
   "name": "python",
   "nbconvert_exporter": "python",
   "pygments_lexer": "ipython3",
   "version": "3.10.4"
  }
 },
 "nbformat": 4,
 "nbformat_minor": 5
}
